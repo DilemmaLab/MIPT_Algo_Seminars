{
 "cells": [
  {
   "cell_type": "markdown",
   "metadata": {
    "slideshow": {
     "slide_type": "slide"
    }
   },
   "source": [
    "# PYTHON 3\n",
    "\n",
    "## Условия, циклы, контейнеры\n",
    "\n",
    "\n",
    "### Гусев Илья\n",
    "\n",
    "\n",
    "MIPT 2019"
   ]
  },
  {
   "cell_type": "markdown",
   "metadata": {
    "slideshow": {
     "slide_type": "slide"
    }
   },
   "source": [
    "# Содержание \n",
    "\n",
    "1. Условный оператор\n",
    "2. Тернарный условный оператор\n",
    "3. Цикл while\n",
    "4. Цикл for \n",
    "5. Tuple/list и основные операции с ними\n",
    "6. range\n",
    "7. list comprehensions\n",
    "8. generator expressions\n"
   ]
  },
  {
   "cell_type": "markdown",
   "metadata": {
    "slideshow": {
     "slide_type": "slide"
    }
   },
   "source": [
    "# 1. Условные операторы (if, elif, else)\n",
    "\n",
    "Условные операторы в Python выглядит следующим образом:\n"
   ]
  },
  {
   "cell_type": "code",
   "execution_count": 46,
   "metadata": {
    "slideshow": {
     "slide_type": "slide"
    }
   },
   "outputs": [
    {
     "name": "stdout",
     "output_type": "stream",
     "text": [
      "Укажите свой возраст: 18\n",
      "Yes, you can drive\n"
     ]
    }
   ],
   "source": [
    "question = 'Can I drive a car'\n",
    "\n",
    "# функция input() - запрашивает ввод значения пользователем\n",
    "\n",
    "age = input(\"Укажите свой возраст: \")  # аргумент - текст сообщения\n",
    "\n",
    "age = int(age) # функция int преобразовывает введённое пользователем значение в целочисленный формат\n",
    "\n",
    "\n",
    "if age >= 18: # Если вам есть 18\n",
    "    answer = 'Yes, you can drive'\n",
    "else: # Иначе\n",
    "    answer = \"No, you can't drive\"\n",
    "    \n",
    "print(answer)"
   ]
  },
  {
   "cell_type": "markdown",
   "metadata": {
    "slideshow": {
     "slide_type": "subslide"
    }
   },
   "source": [
    "В Питоне нет операторных скобок, в отличие от таких языков, как С++ или Java. В этих языках набор команд, которые должны быть выполнены при определённом условии, определяется расположением скобок, например что-то вроде:\n",
    "```\n",
    "ЕСЛИ условие1, ТО {\n",
    "команда1\n",
    "команда2}\n",
    "ИНАЧЕ {\n",
    "команда3}\n",
    "```\n",
    "Здесь команды 1 и 2 выполняются при условии1, иначе выполняется команда3.\n",
    "\n",
    "На питоне это выглядит вот так:\n",
    "```\n",
    "if условие1:\n",
    "    команда1\n",
    "    команда2\n",
    "else:\n",
    "    команда3\n",
    "```\n"
   ]
  },
  {
   "cell_type": "markdown",
   "metadata": {
    "slideshow": {
     "slide_type": "subslide"
    }
   },
   "source": [
    "Проверок может быть и несколько сразу:"
   ]
  },
  {
   "cell_type": "code",
   "execution_count": 47,
   "metadata": {
    "slideshow": {
     "slide_type": "slide"
    }
   },
   "outputs": [
    {
     "name": "stdout",
     "output_type": "stream",
     "text": [
      "Укажите свой возраст: 15\n",
      "No, you can't drive\n"
     ]
    }
   ],
   "source": [
    "age = int(input(\"Укажите свой возраст: \")) # Удобно использовать int(input()), если вы запрашиваете число\n",
    "\n",
    "country = 'Russia'\n",
    "# country = 'USA'\n",
    "\n",
    "if age >=16 and country=='USA': # Если вам есть 21 и вы живете в США\n",
    "    answer = 'Yes, you can drive'\n",
    "# elif - сокращение от else if\n",
    "elif age >= 18 and country=='Russia': # Если условие выше неверно, но вам есть 18 и вы живете в России\n",
    "    answer = 'Yes, you can drive'\n",
    "else: # Иначе\n",
    "    answer = \"No, you can't drive\"\n",
    "    \n",
    "print(answer)"
   ]
  },
  {
   "cell_type": "code",
   "execution_count": 48,
   "metadata": {
    "slideshow": {
     "slide_type": "subslide"
    }
   },
   "outputs": [
    {
     "name": "stdout",
     "output_type": "stream",
     "text": [
      "Всё под контролем\n"
     ]
    }
   ],
   "source": [
    "# Если блок if/elif/else состоит только из одной строки - можно писать в одну строчку\n",
    "# Т.е. писать команду сразу после двоеточия\n",
    "\n",
    "if 5 > 8 and 4 < -4 or not 5 == 5: print(\"Мир сошел с ума!\")\n",
    "else: print(\"Всё под контролем\") \n",
    "\n",
    "# Строка \"5 > 8 and 4 < -4 or not 5 == 5\" эквивалентна строке \"((5 > 8) and (4 < -4)) or (not (5 == 5))\"\n",
    "# То есть в первую очередь выполняются операции сравнения, затем оператор not, затем and, и в самом конце or\n",
    "# Порядок выполнения можно менять, расставляя скобки"
   ]
  },
  {
   "cell_type": "markdown",
   "metadata": {
    "slideshow": {
     "slide_type": "slide"
    }
   },
   "source": [
    "# 2. Тернарный условный оператор\n"
   ]
  },
  {
   "cell_type": "code",
   "execution_count": 49,
   "metadata": {
    "slideshow": {
     "slide_type": "slide"
    }
   },
   "outputs": [
    {
     "data": {
      "text/plain": [
       "'true'"
      ]
     },
     "execution_count": 49,
     "metadata": {},
     "output_type": "execute_result"
    },
    {
     "data": {
      "text/plain": [
       "'false'"
      ]
     },
     "execution_count": 49,
     "metadata": {},
     "output_type": "execute_result"
    }
   ],
   "source": [
    "# a if condition else b\n",
    "\n",
    "'true' if True else 'false'\n",
    "'true' if False else 'false'"
   ]
  },
  {
   "cell_type": "code",
   "execution_count": 50,
   "metadata": {
    "slideshow": {
     "slide_type": "subslide"
    }
   },
   "outputs": [
    {
     "name": "stdout",
     "output_type": "stream",
     "text": [
      "6\n",
      "6\n"
     ]
    }
   ],
   "source": [
    "# Можно использовать в выражениях\n",
    "\n",
    "x, y = 3, 5 # Да, так можно\n",
    "z = 3 + x if x < y else 3 + y\n",
    "print(z)\n",
    "\n",
    "z = 3 + (x if x < y else y) # Внимательнее с порядком вычислений\n",
    "print(z)"
   ]
  },
  {
   "cell_type": "code",
   "execution_count": 51,
   "metadata": {
    "slideshow": {
     "slide_type": "slide"
    }
   },
   "outputs": [
    {
     "data": {
      "text/plain": [
       "'teenager'"
      ]
     },
     "execution_count": 51,
     "metadata": {},
     "output_type": "execute_result"
    }
   ],
   "source": [
    "# Можно использовать подряд (но лучше не надо)\n",
    "age = 15\n",
    "'kid' if age < 13 else 'teenager' if age < 18 else 'adult'"
   ]
  },
  {
   "cell_type": "markdown",
   "metadata": {
    "slideshow": {
     "slide_type": "slide"
    }
   },
   "source": [
    "# 3. Цикл while\n"
   ]
  },
  {
   "cell_type": "code",
   "execution_count": 52,
   "metadata": {
    "slideshow": {
     "slide_type": "slide"
    }
   },
   "outputs": [
    {
     "name": "stdout",
     "output_type": "stream",
     "text": [
      "1\n",
      "Hello! \n",
      "2\n",
      "Hello! Hello! \n",
      "3\n",
      "Hello! Hello! Hello! \n"
     ]
    }
   ],
   "source": [
    "greetings = 1\n",
    "\n",
    "while greetings <= 3:\n",
    "    \n",
    "    print(greetings)\n",
    "    print('Hello! ' * greetings)\n",
    "    # Оператор += увеличивает переменную на заданное число \n",
    "    greetings += 1 # эквивалентно: greetings = greetings + 1"
   ]
  },
  {
   "cell_type": "markdown",
   "metadata": {
    "slideshow": {
     "slide_type": "slide"
    }
   },
   "source": [
    "# 4. Цикл for \n",
    "\n"
   ]
  },
  {
   "cell_type": "code",
   "execution_count": 53,
   "metadata": {
    "slideshow": {
     "slide_type": "slide"
    }
   },
   "outputs": [
    {
     "name": "stdout",
     "output_type": "stream",
     "text": [
      "Hello, Alice\n",
      "Hello, Bob\n",
      "Hello, Charley\n",
      "\n",
      "Hello, Alice\n",
      "Hello, Bob\n",
      "Hello, Charley\n"
     ]
    }
   ],
   "source": [
    "name_list = ['Alice', 'Bob', 'Charley']\n",
    "\n",
    "for i in range(len(name_list)): # Перебираем индексы от 0 до L-1\n",
    "    print('Hello, ' + name_list[i])\n",
    "\n",
    "print()\n",
    "\n",
    "for name in name_list: # Перебираем элементы списка\n",
    "    print('Hello, ' + name)"
   ]
  },
  {
   "cell_type": "code",
   "execution_count": 54,
   "metadata": {
    "slideshow": {
     "slide_type": "subslide"
    }
   },
   "outputs": [
    {
     "name": "stdout",
     "output_type": "stream",
     "text": [
      "Hello, Alice\n",
      "Hello, Bob\n"
     ]
    }
   ],
   "source": [
    "# break\n",
    "# Поздороваемся только с двумя людьми\n",
    "\n",
    "name_list = ['Alice', 'Bob', 'Charley']\n",
    "\n",
    "for i in range(len(name_list)):\n",
    "    print('Hello, ' + name_list[i])\n",
    "    if i > 0: \n",
    "        break"
   ]
  },
  {
   "cell_type": "code",
   "execution_count": 55,
   "metadata": {
    "slideshow": {
     "slide_type": "subslide"
    }
   },
   "outputs": [
    {
     "name": "stdout",
     "output_type": "stream",
     "text": [
      "Hello, Alice\n",
      "Hello, Charley\n"
     ]
    }
   ],
   "source": [
    "# continue\n",
    "# Не будем здороваться с Бобом\n",
    "\n",
    "name_list = ['Alice', 'Bob', 'Charley']\n",
    "\n",
    "for name in name_list: # Перебираем элементы списка\n",
    "    if name == 'Bob':\n",
    "        continue\n",
    "        \n",
    "    print('Hello, ' + name)"
   ]
  },
  {
   "cell_type": "code",
   "execution_count": 56,
   "metadata": {
    "slideshow": {
     "slide_type": "subslide"
    }
   },
   "outputs": [
    {
     "name": "stdout",
     "output_type": "stream",
     "text": [
      "Не нашли пятёрку\n"
     ]
    }
   ],
   "source": [
    "# Конструкция for..else\n",
    "\n",
    "numbers = [1,3,7,8,10]\n",
    "\n",
    "for n in numbers:\n",
    "    if n == 5:\n",
    "        print('Нашли пятёрку')\n",
    "        break\n",
    "else: # если break не сработал\n",
    "    print('Не нашли пятёрку')"
   ]
  },
  {
   "cell_type": "code",
   "execution_count": 57,
   "metadata": {
    "slideshow": {
     "slide_type": "subslide"
    }
   },
   "outputs": [],
   "source": [
    "# pass - ничего не делает\n",
    "for n in (1,2,3): pass"
   ]
  },
  {
   "cell_type": "markdown",
   "metadata": {
    "slideshow": {
     "slide_type": "slide"
    }
   },
   "source": [
    "# 5. Tuple/list и основные операции с ними\n"
   ]
  },
  {
   "cell_type": "code",
   "execution_count": 58,
   "metadata": {
    "slideshow": {
     "slide_type": "slide"
    }
   },
   "outputs": [
    {
     "name": "stdout",
     "output_type": "stream",
     "text": [
      "<class 'list'>\n",
      "['i', 'can', 'be', 'modified']\n",
      "<class 'tuple'>\n"
     ]
    },
    {
     "ename": "TypeError",
     "evalue": "'tuple' object does not support item assignment",
     "output_type": "error",
     "traceback": [
      "\u001b[0;31m---------------------------------------------------------------------------\u001b[0m",
      "\u001b[0;31mTypeError\u001b[0m                                 Traceback (most recent call last)",
      "\u001b[0;32m<ipython-input-58-feef2789c237>\u001b[0m in \u001b[0;36m<module>\u001b[0;34m()\u001b[0m\n\u001b[1;32m      6\u001b[0m \u001b[0mt\u001b[0m \u001b[0;34m=\u001b[0m \u001b[0;34m(\u001b[0m\u001b[0;34m'i'\u001b[0m\u001b[0;34m,\u001b[0m \u001b[0;34m'cannot'\u001b[0m\u001b[0;34m,\u001b[0m \u001b[0;34m'be'\u001b[0m\u001b[0;34m,\u001b[0m \u001b[0;34m'modified'\u001b[0m\u001b[0;34m)\u001b[0m\u001b[0;34m\u001b[0m\u001b[0m\n\u001b[1;32m      7\u001b[0m \u001b[0mprint\u001b[0m\u001b[0;34m(\u001b[0m\u001b[0mtype\u001b[0m\u001b[0;34m(\u001b[0m\u001b[0mt\u001b[0m\u001b[0;34m)\u001b[0m\u001b[0;34m)\u001b[0m\u001b[0;34m\u001b[0m\u001b[0m\n\u001b[0;32m----> 8\u001b[0;31m \u001b[0mt\u001b[0m\u001b[0;34m[\u001b[0m\u001b[0;36m1\u001b[0m\u001b[0;34m]\u001b[0m \u001b[0;34m=\u001b[0m \u001b[0;34m'can'\u001b[0m\u001b[0;34m\u001b[0m\u001b[0m\n\u001b[0m\u001b[1;32m      9\u001b[0m \u001b[0mprint\u001b[0m\u001b[0;34m(\u001b[0m\u001b[0mt\u001b[0m\u001b[0;34m)\u001b[0m\u001b[0;34m\u001b[0m\u001b[0m\n",
      "\u001b[0;31mTypeError\u001b[0m: 'tuple' object does not support item assignment"
     ]
    }
   ],
   "source": [
    "t = ['i', 'cannot', 'be', 'modified']\n",
    "print(type(t))\n",
    "t[1] = 'can'\n",
    "print(t)\n",
    "\n",
    "t = ('i', 'cannot', 'be', 'modified')\n",
    "print(type(t))\n",
    "t[1] = 'can'\n",
    "print(t)"
   ]
  },
  {
   "cell_type": "code",
   "execution_count": 59,
   "metadata": {
    "slideshow": {
     "slide_type": "subslide"
    }
   },
   "outputs": [
    {
     "data": {
      "text/plain": [
       "('Rabbit', 'Bear', 'Fox', 'Turtle')"
      ]
     },
     "execution_count": 59,
     "metadata": {},
     "output_type": "execute_result"
    },
    {
     "data": {
      "text/plain": [
       "('Bear', 'Fox')"
      ]
     },
     "execution_count": 59,
     "metadata": {},
     "output_type": "execute_result"
    },
    {
     "data": {
      "text/plain": [
       "('Rabbit', 'Bear')"
      ]
     },
     "execution_count": 59,
     "metadata": {},
     "output_type": "execute_result"
    },
    {
     "data": {
      "text/plain": [
       "('Turtle',)"
      ]
     },
     "execution_count": 59,
     "metadata": {},
     "output_type": "execute_result"
    },
    {
     "data": {
      "text/plain": [
       "'Turtle'"
      ]
     },
     "execution_count": 59,
     "metadata": {},
     "output_type": "execute_result"
    },
    {
     "data": {
      "text/plain": [
       "('Rabbit', 'Bear', 'Fox')"
      ]
     },
     "execution_count": 59,
     "metadata": {},
     "output_type": "execute_result"
    },
    {
     "data": {
      "text/plain": [
       "('Rabbit', 'Fox')"
      ]
     },
     "execution_count": 59,
     "metadata": {},
     "output_type": "execute_result"
    },
    {
     "data": {
      "text/plain": [
       "('Turtle', 'Fox', 'Bear', 'Rabbit')"
      ]
     },
     "execution_count": 59,
     "metadata": {},
     "output_type": "execute_result"
    }
   ],
   "source": [
    "# срезы (slices)\n",
    "tea_party = ('Rabbit', 'Bear', 'Fox', 'Turtle')\n",
    "\n",
    "# tea_party[a:b:s]\n",
    "tea_party[:] # Если нет ни a, ни b - выводится список целиком\n",
    "tea_party[1:3] # а включительно, b НЕ включительно\n",
    "tea_party[:2]\n",
    "tea_party[3:]\n",
    "tea_party[-1] # Последний элемент списка\n",
    "tea_party[:-1] # Все элементы списка, кроме последнего\n",
    "tea_party[0:5:2] # а ещё можно задать шаг прохода s - в данном случае элементы выводятся \"через один\"\n",
    "tea_party[::-1] # а если задать шаг равным -1, список можно развернуть!"
   ]
  },
  {
   "cell_type": "code",
   "execution_count": 60,
   "metadata": {
    "slideshow": {
     "slide_type": "subslide"
    }
   },
   "outputs": [
    {
     "name": "stdout",
     "output_type": "stream",
     "text": [
      "[1, 3, 5, 7, 7, 7, 5, 3, 1, 8]\n",
      "[1, 2, 3, 5, 7, 7, 7, 5, 3, 1, 8]\n",
      "[1, 2, 5, 7, 7, 7, 5, 3, 1, 8]\n",
      "[1, 2, 5, 7, 7, 5, 3, 1, 8]\n",
      "2\n",
      "[1, 1, 2, 3, 5, 5, 7, 7, 8]\n"
     ]
    }
   ],
   "source": [
    "# методы\n",
    "my_list = [1, 3, 5, 7, 7, 7, 5, 3, 1]\n",
    "\n",
    "my_list.append(8) # Метод append(v) добавляет в конец нашего списка новый элемент, здесь - число 8\n",
    "print(my_list)\n",
    "\n",
    "my_list.insert(1,2) # Метод insert(a,b) вставляет элемент b в позицию с индексом a в наш список\n",
    "print(my_list)\n",
    "\n",
    "my_list.remove(3) # Метод remove(v) удаляет из списка элемент со значением v (если v несколько - первое слева)\n",
    "print(my_list)\n",
    "\n",
    "i = 4\n",
    "del my_list[i] # А вот так можно удалить элемент по индексу i, а не по значению v\n",
    "print(my_list)\n",
    "\n",
    "sevens = my_list.count(7) # Метод count(v) возвращает число равных v элементов в списке\n",
    "print(sevens)\n",
    "\n",
    "my_list.sort() # Сортируем список \n",
    "print(my_list)"
   ]
  },
  {
   "cell_type": "code",
   "execution_count": 61,
   "metadata": {
    "slideshow": {
     "slide_type": "subslide"
    }
   },
   "outputs": [
    {
     "name": "stdout",
     "output_type": "stream",
     "text": [
      "9\n",
      "39\n",
      "7\n",
      "1\n",
      "[1, 3, 5, 7, 7, 7, 5, 3, 1]\n",
      "[1, 1, 3, 3, 5, 5, 7, 7, 7]\n"
     ]
    }
   ],
   "source": [
    "# функции\n",
    "\n",
    "my_list = [1,3,5,7,7,7,5,3,1]\n",
    "\n",
    "print(len(my_list))\n",
    "print(sum(my_list))\n",
    "print(max(my_list))\n",
    "print(min(my_list))\n",
    "\n",
    "sorted_list = sorted(my_list) # В отличие от list.sort(), sorted() не меняет исходный список, а создаёт копию\n",
    "print(my_list)\n",
    "print(sorted_list)"
   ]
  },
  {
   "cell_type": "code",
   "execution_count": 62,
   "metadata": {
    "slideshow": {
     "slide_type": "subslide"
    }
   },
   "outputs": [
    {
     "name": "stdout",
     "output_type": "stream",
     "text": [
      "['Привет,', 'я', 'обычное', 'предложение,', 'во', 'мне', 'есть', 'слова', 'и', 'пробелы']\n",
      "Привет, я обычное предложение, во мне есть слова и пробелы\n",
      "['Прив', 'т, я обычно', ' пр', 'длож', 'ни', ', во мн', ' ', 'сть слова и проб', 'лы']\n",
      "Привэт, я обычноэ прэдложэниэ, во мнэ эсть слова и пробэлы\n"
     ]
    }
   ],
   "source": [
    "# Полезные функции split(str) и str.join(list):\n",
    "\n",
    "A = 'Привет, я обычное предложение, во мне есть слова и пробелы'.split(' ')\n",
    "print(A)\n",
    "\n",
    "B = ' '.join(A)\n",
    "print(B)\n",
    "\n",
    "C = B.split('е')\n",
    "print(C)\n",
    "\n",
    "D = 'э'.join(C)\n",
    "print(D)"
   ]
  },
  {
   "cell_type": "markdown",
   "metadata": {
    "slideshow": {
     "slide_type": "slide"
    }
   },
   "source": [
    "# 6. range\n"
   ]
  },
  {
   "cell_type": "markdown",
   "metadata": {
    "slideshow": {
     "slide_type": "slide"
    }
   },
   "source": [
    "Часто используются списки, элементами которых являются числа, идущие с определенным шагом. Для создания таких списков можно использовать специальную функцию **range(start, end, step)**:"
   ]
  },
  {
   "cell_type": "code",
   "execution_count": 63,
   "metadata": {
    "slideshow": {
     "slide_type": "slide"
    }
   },
   "outputs": [
    {
     "name": "stdout",
     "output_type": "stream",
     "text": [
      "range(0, 10)\n",
      "<class 'range'>\n",
      "[0, 1, 2, 3, 4, 5, 6, 7, 8, 9]\n",
      "[1, 2, 3, 4, 5, 6, 7, 8, 9]\n",
      "[0, 3, 6, 9, 12, 15, 18]\n"
     ]
    }
   ],
   "source": [
    "# Вызов функции range(N) создает список с элементами от 0 до N-1.\n",
    "print(range(10))\n",
    "# Если честно - функция range(N) создаёт объект типа \"итератор\"\n",
    "print(type(range(10)))\n",
    "\n",
    "# Для наглядности будем преобразовывать range в список функцией list()\n",
    "print(list(range(10))) # если параметр только один, то это параметр end, а start==0 и step==1\n",
    "print(list(range(1,10))) # если параметра два, то это (start, end), а step==1\n",
    "print(list(range(0, 20, 3)))\n",
    "\n",
    "# end НЕ включительно!"
   ]
  },
  {
   "cell_type": "code",
   "execution_count": 64,
   "metadata": {
    "slideshow": {
     "slide_type": "subslide"
    }
   },
   "outputs": [
    {
     "name": "stdout",
     "output_type": "stream",
     "text": [
      "[100, 98, 96, 94, 92, 90, 88, 86, 84, 82, 80, 78, 76]\n"
     ]
    },
    {
     "ename": "TypeError",
     "evalue": "'float' object cannot be interpreted as an integer",
     "output_type": "error",
     "traceback": [
      "\u001b[0;31m---------------------------------------------------------------------------\u001b[0m",
      "\u001b[0;31mTypeError\u001b[0m                                 Traceback (most recent call last)",
      "\u001b[0;32m<ipython-input-64-a165fc082816>\u001b[0m in \u001b[0;36m<module>\u001b[0;34m()\u001b[0m\n\u001b[1;32m      1\u001b[0m \u001b[0mprint\u001b[0m\u001b[0;34m(\u001b[0m\u001b[0mlist\u001b[0m\u001b[0;34m(\u001b[0m\u001b[0mrange\u001b[0m\u001b[0;34m(\u001b[0m\u001b[0;36m100\u001b[0m\u001b[0;34m,\u001b[0m \u001b[0;36m75\u001b[0m\u001b[0;34m,\u001b[0m \u001b[0;34m-\u001b[0m\u001b[0;36m2\u001b[0m\u001b[0;34m)\u001b[0m\u001b[0;34m)\u001b[0m\u001b[0;34m)\u001b[0m \u001b[0;31m# Шаг может быть и отрицательным\u001b[0m\u001b[0;34m\u001b[0m\u001b[0m\n\u001b[1;32m      2\u001b[0m \u001b[0;34m\u001b[0m\u001b[0m\n\u001b[0;32m----> 3\u001b[0;31m \u001b[0mprint\u001b[0m\u001b[0;34m(\u001b[0m\u001b[0mlist\u001b[0m\u001b[0;34m(\u001b[0m\u001b[0mrange\u001b[0m\u001b[0;34m(\u001b[0m\u001b[0;36m1\u001b[0m\u001b[0;34m,\u001b[0m \u001b[0;36m10\u001b[0m\u001b[0;34m,\u001b[0m \u001b[0;36m0.5\u001b[0m\u001b[0;34m)\u001b[0m\u001b[0;34m)\u001b[0m\u001b[0;34m)\u001b[0m \u001b[0;31m# А вот нецелым числом шаг быть не может!\u001b[0m\u001b[0;34m\u001b[0m\u001b[0m\n\u001b[0m",
      "\u001b[0;31mTypeError\u001b[0m: 'float' object cannot be interpreted as an integer"
     ]
    }
   ],
   "source": [
    "print(list(range(100, 75, -2))) # Шаг может быть и отрицательным\n",
    "     \n",
    "print(list(range(1, 10, 0.5))) # А вот нецелым числом шаг быть не может!"
   ]
  },
  {
   "cell_type": "markdown",
   "metadata": {
    "slideshow": {
     "slide_type": "slide"
    }
   },
   "source": [
    "# 7. list comprehensions\n"
   ]
  },
  {
   "cell_type": "markdown",
   "metadata": {},
   "source": [
    "### В питоне есть очень удобная штука под названием list comprehension, выглядит она вот так:"
   ]
  },
  {
   "cell_type": "code",
   "execution_count": 65,
   "metadata": {},
   "outputs": [
    {
     "data": {
      "text/plain": [
       "[0, 4, 16, 36, 64]"
      ]
     },
     "execution_count": 65,
     "metadata": {},
     "output_type": "execute_result"
    }
   ],
   "source": [
    "# Общий вид такой: [выражение по всем x из список/итератор при условии что x ...]\n",
    "\n",
    "[x**2 for x in range(10) if x % 2==0] # вот так можно создать список квадратов чётных чисел меньше 10"
   ]
  },
  {
   "cell_type": "code",
   "execution_count": 66,
   "metadata": {
    "slideshow": {
     "slide_type": "subslide"
    }
   },
   "outputs": [
    {
     "data": {
      "text/plain": [
       "[(4, 2), (6, 2), (6, 3), (8, 2), (8, 4), (9, 3)]"
      ]
     },
     "execution_count": 66,
     "metadata": {},
     "output_type": "execute_result"
    }
   ],
   "source": [
    "# List comprehension умеет и в двойной цикл\n",
    "\n",
    "sorted([(y,x) for x in range(2, 10) for y in range(x + 1, 10) if y % x==0])"
   ]
  },
  {
   "cell_type": "code",
   "execution_count": 67,
   "metadata": {
    "slideshow": {
     "slide_type": "subslide"
    }
   },
   "outputs": [
    {
     "name": "stdout",
     "output_type": "stream",
     "text": [
      "[[0, 0, 0], [0, 0, 0], [0, 0, 0]]\n",
      "[[0, 0, 0], [0, 0, 0], [0, 0, 0]]\n"
     ]
    }
   ],
   "source": [
    "# По оговоренным ранее (каким?) причинам, вместо:\n",
    "a = [[0]*3]*3\n",
    "print(a)\n",
    "\n",
    "# Лучше использовать:\n",
    "b = [[0]*3 for i in range(3)]\n",
    "print(b)"
   ]
  },
  {
   "cell_type": "markdown",
   "metadata": {
    "slideshow": {
     "slide_type": "slide"
    }
   },
   "source": [
    "# 8. generator expressions\n"
   ]
  },
  {
   "cell_type": "code",
   "execution_count": 68,
   "metadata": {
    "slideshow": {
     "slide_type": "slide"
    }
   },
   "outputs": [
    {
     "data": {
      "text/plain": [
       "285"
      ]
     },
     "execution_count": 68,
     "metadata": {},
     "output_type": "execute_result"
    },
    {
     "data": {
      "text/plain": [
       "285"
      ]
     },
     "execution_count": 68,
     "metadata": {},
     "output_type": "execute_result"
    },
    {
     "data": {
      "text/plain": [
       "list"
      ]
     },
     "execution_count": 68,
     "metadata": {},
     "output_type": "execute_result"
    },
    {
     "data": {
      "text/plain": [
       "generator"
      ]
     },
     "execution_count": 68,
     "metadata": {},
     "output_type": "execute_result"
    }
   ],
   "source": [
    "# Иногда удобно создать генератор вместо списка, \n",
    "# чтобы не хранить в памяти весь список сразу, \n",
    "# а перебирать по одному\n",
    "\n",
    "sum([x*x for x in range(10)]) # list comprehension\n",
    "sum(x*x for x in range(10))   # generator expression\n",
    "\n",
    "# А в чём разница?\n",
    "\n",
    "type([x*x for x in range(10)])\n",
    "type(x*x for x in range(10))"
   ]
  },
  {
   "cell_type": "code",
   "execution_count": null,
   "metadata": {
    "slideshow": {
     "slide_type": "slide"
    }
   },
   "outputs": [],
   "source": [
    "# А вот так?\n",
    "\n",
    "sum([x*x for x in range(10000000000)]) # list comprehension\n",
    "sum(x*x for x in range(10000000000))   # generator expression"
   ]
  }
 ],
 "metadata": {
  "celltoolbar": "Slideshow",
  "kernelspec": {
   "display_name": "Python 3",
   "language": "python",
   "name": "python3"
  },
  "language_info": {
   "codemirror_mode": {
    "name": "ipython",
    "version": 3
   },
   "file_extension": ".py",
   "mimetype": "text/x-python",
   "name": "python",
   "nbconvert_exporter": "python",
   "pygments_lexer": "ipython3",
   "version": "3.6.6"
  }
 },
 "nbformat": 4,
 "nbformat_minor": 2
}
